{
 "cells": [
  {
   "cell_type": "code",
   "execution_count": null,
   "metadata": {},
   "outputs": [],
   "source": [
    "import hashlib\n",
    "import torch"
   ]
  },
  {
   "cell_type": "code",
   "execution_count": null,
   "metadata": {},
   "outputs": [],
   "source": [
    "from pathlib import Path\n",
    "\n",
    "import numpy as np\n",
    "from bioimageio.spec.model.v0_5 import (\n",
    "    ArchitectureFromLibraryDescr,\n",
    "    ArchitectureFromFileDescr,\n",
    "    Author,\n",
    "    CiteEntry,\n",
    "    AxisBase,\n",
    "    AxisId,\n",
    "    BatchAxis,\n",
    "    ChannelAxis,\n",
    "    EnvironmentFileDescr,\n",
    "    FileDescr,\n",
    "    FixedZeroMeanUnitVarianceDescr,\n",
    "    FixedZeroMeanUnitVarianceKwargs,\n",
    "    Identifier,\n",
    "    InputTensorDescr,\n",
    "    ModelDescr,\n",
    "    OutputTensorDescr,\n",
    "    PytorchStateDictWeightsDescr,\n",
    "    SpaceInputAxis,\n",
    "    SpaceOutputAxis,\n",
    "    TensorId,\n",
    "    Version,\n",
    "    WeightsDescr,\n",
    ")"
   ]
  },
  {
   "cell_type": "code",
   "execution_count": null,
   "metadata": {},
   "outputs": [],
   "source": [
    "# README.md file\n",
    "doc_md = \"doc.md\""
   ]
  },
  {
   "cell_type": "code",
   "execution_count": null,
   "metadata": {},
   "outputs": [],
   "source": [
    "# model input\n",
    "input_path = \"./input_sample.npy\"\n",
    "input_sample = np.load(input_path)\n",
    "# building axes\n",
    "in_axes = [BatchAxis()]  # batch is always there!\n",
    "# channel\n",
    "in_axes.append(\n",
    "    ChannelAxis(channel_names=[Identifier(\"channel\")])\n",
    ")\n",
    "# spatial dims\n",
    "in_axes.append(\n",
    "    SpaceInputAxis(id=AxisId(\"y\"), size=input_sample.shape[2])\n",
    ")\n",
    "in_axes.append(\n",
    "    SpaceInputAxis(id=AxisId(\"x\"), size=input_sample.shape[3])\n",
    ")\n",
    "# input descriptor\n",
    "input_descr = InputTensorDescr(\n",
    "    id=TensorId(\"input\"),\n",
    "    axes=in_axes,\n",
    "    test_tensor=FileDescr(source=input_path),\n",
    ")\n"
   ]
  },
  {
   "cell_type": "code",
   "execution_count": null,
   "metadata": {},
   "outputs": [],
   "source": [
    "# model outputs: masks and flows\n",
    "# masks\n",
    "output1_path = \"./output1_sample_masks.npy\"\n",
    "output1_sample = np.load(output1_path)\n",
    "# building axes\n",
    "out1_axes = [BatchAxis()]  # batch is always there!\n",
    "# spatial dims\n",
    "out1_axes.append(\n",
    "    SpaceOutputAxis(id=AxisId(\"y\"), size=output1_sample.shape[1])\n",
    ")\n",
    "out1_axes.append(\n",
    "    SpaceOutputAxis(id=AxisId(\"x\"), size=output1_sample.shape[2])\n",
    ")\n",
    "# output descriptor\n",
    "output1_descr = OutputTensorDescr(\n",
    "    id=TensorId(\"masks\"),\n",
    "    axes=out1_axes,\n",
    "    test_tensor=FileDescr(source=output1_path),\n",
    ")\n",
    "\n",
    "# flows\n",
    "output2_path = \"./output2_sample_flows.npy\"\n",
    "output2_sample = np.load(output2_path)\n",
    "# building axes\n",
    "out2_axes = [BatchAxis()]  # batch is always there!\n",
    "# channel\n",
    "out2_axes.append(\n",
    "    ChannelAxis(channel_names=[\n",
    "        Identifier(f\"ch_{i}\")\n",
    "        for i in range(output2_sample.shape[1])\n",
    "    ])\n",
    ")\n",
    "# spatial dims\n",
    "out2_axes.append(\n",
    "    SpaceOutputAxis(id=AxisId(\"y\"), size=output2_sample.shape[2])\n",
    ")\n",
    "out2_axes.append(\n",
    "    SpaceOutputAxis(id=AxisId(\"x\"), size=output2_sample.shape[3])\n",
    ")\n",
    "# output descriptor\n",
    "output2_descr = OutputTensorDescr(\n",
    "    id=TensorId(\"flows\"),\n",
    "    axes=out2_axes,\n",
    "    test_tensor=FileDescr(source=output2_path),\n",
    ")\n"
   ]
  },
  {
   "cell_type": "markdown",
   "metadata": {},
   "source": [
    "[https://bioimage-io.github.io/spec-bioimage-io/bioimageio/spec/model/v0_5.html#ArchitectureDescr](https://bioimage-io.github.io/spec-bioimage-io/bioimageio/spec/model/v0_5.html#ArchitectureDescr)"
   ]
  },
  {
   "cell_type": "code",
   "execution_count": null,
   "metadata": {},
   "outputs": [],
   "source": [
    "# model arch & weights\n",
    "model_weights_file = Path(\"./model_weights.pth\")\n",
    "\n",
    "model_src_file = \"./model.py\"\n",
    "with open(model_src_file, \"rb\") as f:\n",
    "    model_sha256 = hashlib.sha256(f.read()).hexdigest()\n",
    "# print(model_sha256)\n",
    "\n",
    "# params to instantiate the model (pass to __init__)\n",
    "model_kwargs = {\n",
    "    \"model_type\": \"cyto\",\n",
    "    \"channels\": [0, 0],\n",
    "    \"diameter\": None,\n",
    "    \"batch_size\": 8,\n",
    "    \"do_3D\": False\n",
    "}\n",
    "\n",
    "arch_descr = ArchitectureFromFileDescr(\n",
    "    source=model_src_file,\n",
    "    sha256=model_sha256,\n",
    "    callable=\"CellPoseWrapper\",\n",
    "    kwargs=model_kwargs\n",
    ")\n",
    "\n",
    "pytorch_version = str(torch.__version__)\n",
    "env_path = \"./env.yml\"\n",
    "\n",
    "weights_descr = WeightsDescr(\n",
    "    pytorch_state_dict=PytorchStateDictWeightsDescr(\n",
    "        source=model_weights_file,\n",
    "        architecture=arch_descr,\n",
    "        pytorch_version=Version(pytorch_version),\n",
    "        dependencies=EnvironmentFileDescr(source=env_path),\n",
    "    ),\n",
    ")"
   ]
  },
  {
   "cell_type": "code",
   "execution_count": null,
   "metadata": {},
   "outputs": [],
   "source": [
    "# authors\n",
    "au1 = Author(\n",
    "    name=\"Carsen Stringer\",\n",
    "    email=None,\n",
    "    affiliation=\"HHMI Janelia Research Campus\",\n",
    "    orcid=None,\n",
    "    github_user=None\n",
    ")\n",
    "au2 = Author(\n",
    "    name=\"Tim Wang\",\n",
    "    email=None,\n",
    "    affiliation=None,\n",
    "    orcid=None,\n",
    "    github_user=None\n",
    ")\n",
    "\n",
    "au3 = Author(\n",
    "    name=\"Michalis Michaelos\",\n",
    "    email=None,\n",
    "    affiliation=None,\n",
    "    orcid=None,\n",
    "    github_user=None\n",
    ")\n",
    "\n",
    "au4 = Author(\n",
    "    name=\"Marius Pachitariu\",\n",
    "    email=None,\n",
    "    affiliation=None,\n",
    "    orcid=None,\n",
    "    github_user=None\n",
    ")\n",
    "\n",
    "authors = [au1, au2, au3, au4]"
   ]
  },
  {
   "cell_type": "code",
   "execution_count": null,
   "metadata": {},
   "outputs": [],
   "source": [
    "citation = CiteEntry(\n",
    "    text=\"\"\"Stringer, C., Wang, T., Michaelos, M., & Pachitariu, M. (2021). Cellpose: a generalist algorithm for cellular segmentation. Nature methods, 18(1), 100-106.\"\"\",\n",
    "    doi=\"10.1038/s41592-020-01018-x\"\n",
    ")"
   ]
  },
  {
   "cell_type": "code",
   "execution_count": null,
   "metadata": {},
   "outputs": [],
   "source": [
    "# model\n",
    "model_descr = ModelDescr(\n",
    "    name=\"CellPose(cyto)\",\n",
    "    authors=authors,\n",
    "    description=\"CellPose 'cyto' model\",\n",
    "    documentation=doc_md,\n",
    "    inputs=[input_descr],\n",
    "    outputs=[output1_descr, output2_descr],\n",
    "    tags=[\"Cell Segmentation\", \"Segmentation\"],\n",
    "    # covers=[\"cover1.png\"],\n",
    "    links=[\n",
    "        \"https://github.com/mouseland/cellpose\",\n",
    "    ],\n",
    "    gitrepo=\"https://github.com/juglab/cellpose-bmz-wrapper\",\n",
    "    license=\"BSD-3-Clause\",\n",
    "    version=\"0.1.0\",\n",
    "    weights=weights_descr,\n",
    "    cite=[citation],\n",
    ")"
   ]
  },
  {
   "cell_type": "code",
   "execution_count": null,
   "metadata": {},
   "outputs": [],
   "source": [
    "model_descr.validation_summary.display()"
   ]
  },
  {
   "cell_type": "code",
   "execution_count": null,
   "metadata": {},
   "outputs": [],
   "source": [
    "from bioimageio.core import test_model\n",
    "\n",
    "summary = test_model(model_descr)\n",
    "summary.display()"
   ]
  },
  {
   "cell_type": "code",
   "execution_count": null,
   "metadata": {},
   "outputs": [],
   "source": [
    "from bioimageio.spec import save_bioimageio_package\n",
    "\n",
    "save_bioimageio_package(model_descr, output_path=Path(\"cellpose.zip\"))"
   ]
  },
  {
   "cell_type": "code",
   "execution_count": null,
   "metadata": {},
   "outputs": [],
   "source": []
  }
 ],
 "metadata": {
  "kernelspec": {
   "display_name": "ai4life",
   "language": "python",
   "name": "python3"
  },
  "language_info": {
   "codemirror_mode": {
    "name": "ipython",
    "version": 3
   },
   "file_extension": ".py",
   "mimetype": "text/x-python",
   "name": "python",
   "nbconvert_exporter": "python",
   "pygments_lexer": "ipython3",
   "version": "3.8.19"
  }
 },
 "nbformat": 4,
 "nbformat_minor": 2
}
