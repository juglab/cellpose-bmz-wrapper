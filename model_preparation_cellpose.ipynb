{
 "cells": [
  {
   "cell_type": "code",
   "execution_count": 1,
   "metadata": {},
   "outputs": [],
   "source": [
    "import hashlib\n",
    "import torch"
   ]
  },
  {
   "cell_type": "code",
   "execution_count": 2,
   "metadata": {},
   "outputs": [],
   "source": [
    "from pathlib import Path\n",
    "from typing import List, Optional, Tuple, Union\n",
    "\n",
    "import numpy as np\n",
    "from bioimageio.spec.model.v0_5 import (\n",
    "    ArchitectureFromLibraryDescr,\n",
    "    ArchitectureFromFileDescr,\n",
    "    Author,\n",
    "    CiteEntry,\n",
    "    AxisBase,\n",
    "    AxisId,\n",
    "    BatchAxis,\n",
    "    ChannelAxis,\n",
    "    EnvironmentFileDescr,\n",
    "    FileDescr,\n",
    "    FixedZeroMeanUnitVarianceDescr,\n",
    "    FixedZeroMeanUnitVarianceKwargs,\n",
    "    Identifier,\n",
    "    InputTensorDescr,\n",
    "    ModelDescr,\n",
    "    OutputTensorDescr,\n",
    "    PytorchStateDictWeightsDescr,\n",
    "    SpaceInputAxis,\n",
    "    SpaceOutputAxis,\n",
    "    IndexOutputAxis,\n",
    "    TensorId,\n",
    "    Version,\n",
    "    WeightsDescr,\n",
    ")"
   ]
  },
  {
   "cell_type": "code",
   "execution_count": 3,
   "metadata": {},
   "outputs": [],
   "source": [
    "np.random.seed(13)\n",
    "torch.manual_seed(13)\n",
    "torch.cuda.manual_seed(13)"
   ]
  },
  {
   "cell_type": "code",
   "execution_count": 3,
   "metadata": {},
   "outputs": [],
   "source": [
    "# README.md file\n",
    "doc_md = \"doc.md\""
   ]
  },
  {
   "cell_type": "markdown",
   "metadata": {},
   "source": [
    "### Authors and Citations"
   ]
  },
  {
   "cell_type": "code",
   "execution_count": null,
   "metadata": {},
   "outputs": [],
   "source": [
    "# authors\n",
    "au1 = Author(\n",
    "    name=\"John Doe\",\n",
    "    email=None,\n",
    "    affiliation=None,\n",
    "    orcid=None,\n",
    "    github_user=None\n",
    ")\n",
    "\n",
    "authors = [au1]"
   ]
  },
  {
   "cell_type": "code",
   "execution_count": null,
   "metadata": {},
   "outputs": [],
   "source": [
    "citation1 = CiteEntry(\n",
    "    text=\"\"\"Stringer, C., Wang, T., Michaelos, M. et al. Cellpose: a generalist algorithm for cellular segmentation. Nat Methods 18, 100–106 (2021).\"\"\",\n",
    "    doi=\"10.1038/s41592-020-01018-x\"\n",
    ")\n",
    "\n",
    "citation2 = CiteEntry(\n",
    "    text=\"\"\"Pachitariu, M., Stringer, C. Cellpose 2.0: how to train your own model. Nat Methods 19, 1634–1641 (2022).\"\"\",\n",
    "    doi=\"10.1038/s41592-022-01663-4\"\n",
    ")\n",
    "\n",
    "citation3 = CiteEntry(\n",
    "    text=\"\"\"Stringer, Carsen, and Marius Pachitariu. \"Cellpose3: one-click image restoration for improved cellular segmentation.\" bioRxiv (2024).\"\"\",\n",
    "    doi=\"10.1101/2024.02.10.579780\"\n",
    ")"
   ]
  },
  {
   "cell_type": "markdown",
   "metadata": {},
   "source": [
    "### Model Input\n",
    "**Must have the shape of (B, C=1, Y, X)**"
   ]
  },
  {
   "cell_type": "code",
   "execution_count": null,
   "metadata": {},
   "outputs": [],
   "source": [
    "# model input\n",
    "input_path = \"./data/input_sample.npy\"\n",
    "input_sample = np.load(input_path)\n",
    "# print(input_sample.shape)\n",
    "\n",
    "# building axes\n",
    "in_axes = [BatchAxis()]  # batch is always there!\n",
    "# channel\n",
    "in_axes.append(\n",
    "    ChannelAxis(channel_names=[Identifier(\"channel\")])\n",
    ")\n",
    "# spatial dims\n",
    "in_axes.append(\n",
    "    SpaceInputAxis(id=AxisId(\"y\"), size=input_sample.shape[2])\n",
    ")\n",
    "in_axes.append(\n",
    "    SpaceInputAxis(id=AxisId(\"x\"), size=input_sample.shape[3])\n",
    ")\n",
    "# input descriptor\n",
    "input_descr = InputTensorDescr(\n",
    "    id=TensorId(\"input\"),\n",
    "    axes=in_axes,\n",
    "    test_tensor=FileDescr(source=input_path),\n",
    ")"
   ]
  },
  {
   "cell_type": "markdown",
   "metadata": {},
   "source": [
    "### Model Outputs:\n",
    "**masks, flows, styles, diams**"
   ]
  },
  {
   "cell_type": "code",
   "execution_count": null,
   "metadata": {},
   "outputs": [],
   "source": [
    "# masks\n",
    "output_1_path = \"./data/output_sample1_masks.npy\"\n",
    "output_1_sample = np.load(output_1_path)\n",
    "# print(output_1_sample.shape)\n",
    "# building axes\n",
    "out_1_axes = [BatchAxis()]  # batch is always there!\n",
    "# spatial dims\n",
    "out_1_axes.append(\n",
    "    SpaceOutputAxis(id=AxisId(\"y\"), size=output_1_sample.shape[1])\n",
    ")\n",
    "out_1_axes.append(\n",
    "    SpaceOutputAxis(id=AxisId(\"x\"), size=output_1_sample.shape[2])\n",
    ")\n",
    "# output descriptor\n",
    "output_1_descr = OutputTensorDescr(\n",
    "    id=TensorId(\"masks\"),\n",
    "    axes=out_1_axes,\n",
    "    test_tensor=FileDescr(source=output_1_path),\n",
    ")"
   ]
  },
  {
   "cell_type": "code",
   "execution_count": null,
   "metadata": {},
   "outputs": [],
   "source": [
    "# flows\n",
    "output_2_path = \"./data/output_sample2_flows.npy\"\n",
    "output_2_sample = np.load(output_2_path)\n",
    "# building axes\n",
    "out_2_axes = [BatchAxis()]  # batch is always there!\n",
    "# channel\n",
    "out_2_axes.append(\n",
    "    ChannelAxis(channel_names=[\n",
    "        Identifier(f\"ch_{i}\")\n",
    "        for i in range(output_2_sample.shape[1])\n",
    "    ])\n",
    ")\n",
    "# spatial dims\n",
    "out_2_axes.append(\n",
    "    SpaceOutputAxis(id=AxisId(\"y\"), size=output_2_sample.shape[2])\n",
    ")\n",
    "out_2_axes.append(\n",
    "    SpaceOutputAxis(id=AxisId(\"x\"), size=output_2_sample.shape[3])\n",
    ")\n",
    "# output descriptor\n",
    "output_2_descr = OutputTensorDescr(\n",
    "    id=TensorId(\"flows\"),\n",
    "    axes=out_2_axes,\n",
    "    test_tensor=FileDescr(source=output_2_path),\n",
    ")"
   ]
  },
  {
   "cell_type": "code",
   "execution_count": null,
   "metadata": {},
   "outputs": [],
   "source": [
    "# styles\n",
    "output_3_path = \"./data/output_sample3_styles.npy\"\n",
    "output_3_sample = np.load(output_3_path)\n",
    "# building axes\n",
    "out_3_axes = [BatchAxis()]  # batch is always there!\n",
    "# spatial dims\n",
    "out_3_axes.append(\n",
    "    SpaceOutputAxis(id=AxisId(\"y\"), size=output_3_sample.shape[1])\n",
    ")\n",
    "# output descriptor\n",
    "output_3_descr = OutputTensorDescr(\n",
    "    id=TensorId(\"styles\"),\n",
    "    axes=out_3_axes,\n",
    "    test_tensor=FileDescr(source=output_3_path),\n",
    ")"
   ]
  },
  {
   "cell_type": "code",
   "execution_count": null,
   "metadata": {},
   "outputs": [],
   "source": [
    "# diams\n",
    "output_4_path = \"./data/output_sample4_diams.npy\"\n",
    "output_4_sample = np.load(output_4_path)\n",
    "print(output_4_sample.shape)\n",
    "# building axes\n",
    "out_4_axes = [BatchAxis(), SpaceOutputAxis(id=AxisId(\"y\"), size=1)]\n",
    "# output descriptor\n",
    "output_4_descr = OutputTensorDescr(\n",
    "    id=TensorId(\"diams\"),\n",
    "    axes=out_4_axes,\n",
    "    test_tensor=FileDescr(source=output_4_path),\n",
    ")"
   ]
  },
  {
   "cell_type": "markdown",
   "metadata": {},
   "source": [
    "### Model's Architecture & Weights description"
   ]
  },
  {
   "cell_type": "code",
   "execution_count": null,
   "metadata": {},
   "outputs": [],
   "source": [
    "# model arch & weights\n",
    "model_weights_file = Path(\"./cellpose_models/cyto3.pth\")\n",
    "\n",
    "model_src_file = \"./model.py\"\n",
    "with open(model_src_file, \"rb\") as f:\n",
    "    model_sha256 = hashlib.sha256(f.read()).hexdigest()\n",
    "# print(model_sha256)\n",
    "\n",
    "# params to instantiate the model (pass to __init__)\n",
    "model_kwargs = {\n",
    "    \"diam_mean\": 30.,\n",
    "    \"cp_batch_size\": 8,\n",
    "    \"channels\": [0, 0],\n",
    "    \"flow_threshold\": 0.4,\n",
    "    \"cellprob_threshold\": 0.0,\n",
    "    \"stitch_threshold\": 0.0,\n",
    "    \"estimate_diam\": True,\n",
    "    \"normalize\": True,\n",
    "    \"do_3D\": False,\n",
    "    \"gpu\": False\n",
    "}\n",
    "\n",
    "arch_descr = ArchitectureFromFileDescr(\n",
    "    source=model_src_file,\n",
    "    sha256=model_sha256,\n",
    "    callable=\"CellPoseWrapper\",\n",
    "    kwargs=model_kwargs\n",
    ")\n",
    "\n",
    "pytorch_version = str(torch.__version__)\n",
    "env_path = \"./environment.yml\"\n",
    "\n",
    "weights_descr = WeightsDescr(\n",
    "    pytorch_state_dict=PytorchStateDictWeightsDescr(\n",
    "        source=model_weights_file,\n",
    "        architecture=arch_descr,\n",
    "        pytorch_version=Version(pytorch_version),\n",
    "        dependencies=EnvironmentFileDescr(source=env_path),\n",
    "    ),\n",
    ")"
   ]
  },
  {
   "cell_type": "markdown",
   "metadata": {},
   "source": [
    "### Final Model Description"
   ]
  },
  {
   "cell_type": "code",
   "execution_count": null,
   "metadata": {},
   "outputs": [],
   "source": [
    "# model\n",
    "model_descr = ModelDescr(\n",
    "    name=\"CellPose(cyto3)\",\n",
    "    authors=authors,\n",
    "    description=\"CellPose 'cyto3' model\",\n",
    "    documentation=doc_md,\n",
    "    inputs=[input_descr],\n",
    "    outputs=[output_1_descr, output_2_descr, output_3_descr, output_4_descr],\n",
    "    tags=[\"Cellpose\", \"Cell Segmentation\", \"Segmentation\"],\n",
    "    links=[\n",
    "        \"https://github.com/mouseland/cellpose\",\n",
    "    ],\n",
    "    license=\"BSD-3-Clause\",\n",
    "    git_repo=\"https://github.com/juglab/cellpose-bmz-wrapper\",\n",
    "    version=\"0.1.0\",\n",
    "    weights=weights_descr,\n",
    "    cite=[citation1, citation2, citation3],\n",
    "    covers=[\"cover.png\"]\n",
    ")"
   ]
  },
  {
   "cell_type": "code",
   "execution_count": null,
   "metadata": {},
   "outputs": [],
   "source": [
    "model_descr.validation_summary.display()"
   ]
  },
  {
   "cell_type": "code",
   "execution_count": null,
   "metadata": {},
   "outputs": [],
   "source": [
    "from bioimageio.core import test_model\n",
    "\n",
    "summary = test_model(model_descr)\n",
    "summary.display()"
   ]
  },
  {
   "cell_type": "code",
   "execution_count": null,
   "metadata": {},
   "outputs": [],
   "source": [
    "from bioimageio.spec import save_bioimageio_package\n",
    "\n",
    "save_bioimageio_package(model_descr, output_path=Path(\"cellpose_cyto3.zip\"))"
   ]
  },
  {
   "cell_type": "code",
   "execution_count": null,
   "metadata": {},
   "outputs": [],
   "source": []
  }
 ],
 "metadata": {
  "kernelspec": {
   "display_name": "biocore2",
   "language": "python",
   "name": "python3"
  },
  "language_info": {
   "codemirror_mode": {
    "name": "ipython",
    "version": 3
   },
   "file_extension": ".py",
   "mimetype": "text/x-python",
   "name": "python",
   "nbconvert_exporter": "python",
   "pygments_lexer": "ipython3",
   "version": "3.12.6"
  }
 },
 "nbformat": 4,
 "nbformat_minor": 2
}
