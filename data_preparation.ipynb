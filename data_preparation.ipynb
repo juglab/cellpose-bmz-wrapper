{
 "cells": [
  {
   "cell_type": "code",
   "execution_count": null,
   "metadata": {},
   "outputs": [],
   "source": [
    "import numpy as np\n",
    "import tifffile\n",
    "\n",
    "from cellpose import models, io, plot"
   ]
  },
  {
   "cell_type": "code",
   "execution_count": null,
   "metadata": {},
   "outputs": [],
   "source": [
    "tiff_images = tifffile.imread(\"./data/test_images.tif\", dtype=np.uint8)\n",
    "print(tiff_images.shape)"
   ]
  },
  {
   "cell_type": "code",
   "execution_count": null,
   "metadata": {},
   "outputs": [],
   "source": [
    "model_type=\"cyto\"\n",
    "channels=[0, 0]\n",
    "diameter=None\n",
    "batch_size=8\n",
    "do_3D=False\n",
    "\n",
    "input_images = tiff_images[0]\n",
    "\n",
    "model = models.Cellpose(gpu=False, model_type=model_type)\n",
    "masks, flows, styles, diams = model.eval(\n",
    "    input_images, batch_size=batch_size,\n",
    "    diameter=diameter, channels=[channels],\n",
    "    do_3D=do_3D\n",
    ")"
   ]
  },
  {
   "cell_type": "code",
   "execution_count": null,
   "metadata": {},
   "outputs": [],
   "source": [
    "masks.shape, masks.dtype"
   ]
  },
  {
   "cell_type": "code",
   "execution_count": null,
   "metadata": {},
   "outputs": [],
   "source": [
    "# save sample input as b,c,y,x\n",
    "np.save(\"./input_sample.npy\", tiff_images[0:1, np.newaxis].astype(np.float32))"
   ]
  },
  {
   "cell_type": "code",
   "execution_count": null,
   "metadata": {},
   "outputs": [],
   "source": [
    "print(len(flows))\n",
    "\n",
    "for flow in flows:\n",
    "    print(flow.shape, flow.dtype)"
   ]
  },
  {
   "cell_type": "code",
   "execution_count": null,
   "metadata": {},
   "outputs": [],
   "source": [
    "flows_arr = np.vstack([\n",
    "    np.moveaxis(flows[0], 2, 0),\n",
    "    flows[1],\n",
    "    flows[2][np.newaxis],\n",
    "    flows[3]\n",
    "], dtype=np.float32)\n",
    "\n",
    "flows_arr = flows_arr[np.newaxis]  # added batch dim\n",
    "\n",
    "flows_arr.shape, flows_arr.dtype"
   ]
  },
  {
   "cell_type": "code",
   "execution_count": null,
   "metadata": {},
   "outputs": [],
   "source": [
    "# save outputs\n",
    "masks = np.array(masks)[np.newaxis]  # added batch dim\n",
    "print(masks.shape)"
   ]
  },
  {
   "cell_type": "code",
   "execution_count": null,
   "metadata": {},
   "outputs": [],
   "source": [
    "np.save(\"./output1_sample_masks.npy\", masks.astype(np.float32))\n",
    "np.save(\"./output2_sample_flows.npy\", flows_arr)"
   ]
  },
  {
   "cell_type": "code",
   "execution_count": null,
   "metadata": {},
   "outputs": [],
   "source": [
    "out = np.load(\"./output2_sample_flows.npy\")\n",
    "out.shape"
   ]
  },
  {
   "cell_type": "code",
   "execution_count": null,
   "metadata": {},
   "outputs": [],
   "source": []
  }
 ],
 "metadata": {
  "kernelspec": {
   "display_name": "cellpose",
   "language": "python",
   "name": "python3"
  },
  "language_info": {
   "codemirror_mode": {
    "name": "ipython",
    "version": 3
   },
   "file_extension": ".py",
   "mimetype": "text/x-python",
   "name": "python",
   "nbconvert_exporter": "python",
   "pygments_lexer": "ipython3",
   "version": "3.8.19"
  }
 },
 "nbformat": 4,
 "nbformat_minor": 2
}
