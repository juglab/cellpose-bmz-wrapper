{
 "cells": [
  {
   "cell_type": "code",
   "execution_count": null,
   "metadata": {},
   "outputs": [],
   "source": [
    "import numpy as np\n",
    "import matplotlib.pyplot as plt\n",
    "import tifffile\n",
    "import torch\n",
    "\n",
    "from cellpose import models, io, plot\n",
    "\n",
    "from model import CellPoseWrapper"
   ]
  },
  {
   "cell_type": "code",
   "execution_count": null,
   "metadata": {},
   "outputs": [],
   "source": [
    "tiff_images = tifffile.imread(\"./data/test_images.tif\")\n",
    "print(tiff_images.shape)"
   ]
  },
  {
   "cell_type": "code",
   "execution_count": null,
   "metadata": {},
   "outputs": [],
   "source": [
    "# should be 4D and channel last\n",
    "img_batch = torch.from_numpy(tiff_images[0:1]).unsqueeze(1)\n",
    "img_batch.shape"
   ]
  },
  {
   "cell_type": "code",
   "execution_count": null,
   "metadata": {},
   "outputs": [],
   "source": [
    "# save sample input as b,c,y,x\n",
    "np.save(\"./data/input_sample.npy\", img_batch.numpy().astype(np.float32))"
   ]
  },
  {
   "cell_type": "code",
   "execution_count": null,
   "metadata": {},
   "outputs": [],
   "source": [
    "model = CellPoseWrapper(model_type=\"cyto3\", estimate_diam=True, gpu=False)\n",
    "model.load_state_dict(\n",
    "    torch.load(\"../original/cellpose_models/cyto3\", map_location=model.device)\n",
    ")"
   ]
  },
  {
   "cell_type": "code",
   "execution_count": null,
   "metadata": {},
   "outputs": [],
   "source": [
    "masks, flows, styles, diams = model(img_batch)"
   ]
  },
  {
   "cell_type": "code",
   "execution_count": null,
   "metadata": {},
   "outputs": [],
   "source": [
    "masks.shape, masks.dtype"
   ]
  },
  {
   "cell_type": "code",
   "execution_count": null,
   "metadata": {},
   "outputs": [],
   "source": [
    "print(len(flows))\n",
    "for flow in flows:\n",
    "    print(flow.shape, flow.dtype)"
   ]
  },
  {
   "cell_type": "code",
   "execution_count": null,
   "metadata": {},
   "outputs": [],
   "source": [
    "diams, diams.shape"
   ]
  },
  {
   "cell_type": "code",
   "execution_count": null,
   "metadata": {},
   "outputs": [],
   "source": [
    "np.save(\"./data/output_sample1_masks.npy\", masks.astype(np.float32))\n",
    "np.save(\"./data/output_sample2_flows.npy\", flows)\n",
    "np.save(\"./data/output_sample3_styles.npy\", styles)\n",
    "np.save(\"./data/output_sample4_diams.npy\", diams.astype(np.float32))"
   ]
  },
  {
   "cell_type": "code",
   "execution_count": null,
   "metadata": {},
   "outputs": [],
   "source": [
    "image = np.load(\"./data/input_sample.npy\")\n",
    "\n",
    "fig, ax = plt.subplots(1, 1, figsize=(7, 7))\n",
    "ax.imshow(image[0, 0], cmap=\"Greys_r\")\n",
    "\n",
    "plt.show()"
   ]
  },
  {
   "cell_type": "code",
   "execution_count": null,
   "metadata": {},
   "outputs": [],
   "source": [
    "fig, ax = plt.subplots(1, 1, figsize=(7, 7))\n",
    "\n",
    "ax.imshow(image[0, 0], cmap=\"Greys_r\")\n",
    "ax.imshow(\n",
    "    np.ma.masked_where(masks[0] == 0, masks[0]),\n",
    "    cmap=\"tab20\", interpolation=\"none\", alpha=0.65\n",
    ")\n",
    "\n",
    "plt.show()"
   ]
  },
  {
   "cell_type": "code",
   "execution_count": null,
   "metadata": {},
   "outputs": [],
   "source": []
  }
 ],
 "metadata": {
  "kernelspec": {
   "display_name": "biocore2",
   "language": "python",
   "name": "python3"
  },
  "language_info": {
   "codemirror_mode": {
    "name": "ipython",
    "version": 3
   },
   "file_extension": ".py",
   "mimetype": "text/x-python",
   "name": "python",
   "nbconvert_exporter": "python",
   "pygments_lexer": "ipython3",
   "version": "3.12.6"
  }
 },
 "nbformat": 4,
 "nbformat_minor": 2
}
